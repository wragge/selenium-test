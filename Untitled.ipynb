{
 "cells": [
  {
   "cell_type": "code",
   "execution_count": 1,
   "metadata": {},
   "outputs": [
    {
     "name": "stderr",
     "output_type": "stream",
     "text": [
      "2358kb [00:01, 1526.15kb/s]                         \n"
     ]
    },
    {
     "data": {
      "text/plain": [
       "('/Users/tim/webdriver/gecko/v0.23.0/geckodriver-v0.23.0-macos/geckodriver',\n",
       " '/Users/tim/bin/geckodriver')"
      ]
     },
     "execution_count": 1,
     "metadata": {},
     "output_type": "execute_result"
    }
   ],
   "source": [
    "from webdriverdownloader import GeckoDriverDownloader\n",
    "gdd = GeckoDriverDownloader()\n",
    "gdd.download_and_install(\"v0.23.0\")"
   ]
  },
  {
   "cell_type": "code",
   "execution_count": 12,
   "metadata": {},
   "outputs": [],
   "source": [
    "from selenium import webdriver\n",
    "\n",
    "options = webdriver.FirefoxOptions()\n",
    "options.headless = True\n",
    "\n",
    "#If we need to set the path to geck, we can...\n",
    "#browser = webdriver.Firefox(executable_path=geckobin, options=options)\n",
    "\n",
    "driver = webdriver.Firefox(options=options)\n",
    "\n",
    "URL = 'http://www.nla.gov.au'\n",
    "driver.get(URL)\n",
    "\n",
    "S = lambda X: driver.execute_script('return document.body.parentNode.scroll'+X)\n",
    "driver.set_window_size(1200,S('Height')+80) # May need manual adjustment\n",
    "driver.find_element_by_tag_name('body').screenshot('web_screenshotf.png')\n",
    "\n",
    "driver.quit()"
   ]
  },
  {
   "cell_type": "code",
   "execution_count": 11,
   "metadata": {},
   "outputs": [],
   "source": []
  },
  {
   "cell_type": "code",
   "execution_count": null,
   "metadata": {},
   "outputs": [],
   "source": []
  }
 ],
 "metadata": {
  "kernelspec": {
   "display_name": "Python 3",
   "language": "python",
   "name": "python3"
  },
  "language_info": {
   "codemirror_mode": {
    "name": "ipython",
    "version": 3
   },
   "file_extension": ".py",
   "mimetype": "text/x-python",
   "name": "python",
   "nbconvert_exporter": "python",
   "pygments_lexer": "ipython3",
   "version": "3.8.2"
  }
 },
 "nbformat": 4,
 "nbformat_minor": 4
}
